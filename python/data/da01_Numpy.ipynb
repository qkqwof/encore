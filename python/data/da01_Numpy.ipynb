{
 "cells": [
  {
   "cell_type": "markdown",
   "metadata": {},
   "source": [
    "### Numpy\n",
    "    Numeric Python의 약자\n",
    "    수학분야 관련 통계 연산 작업시 사용\n",
    "    과학 계산 컴퓨팅, 데이터 분석에 필요한 기본적인 패키지\n",
    "    \n",
    "    Numpy배열은 리스트와 거의 흡사\n",
    "    리스트보다 훨씬 빠르고 메모리 효율성이 높아서 성능상 우위를 차지한다.\n",
    "    \n",
    "    Numpy는 사용에 앞서서 import해서 사용해야 한다.\n",
    "    Numpy 배열 만드는 방법\n",
    "    1) array() 사용\n",
    "    2) random 모듈의 랜덤함수 사용"
   ]
  },
  {
   "cell_type": "code",
   "execution_count": 1,
   "metadata": {},
   "outputs": [],
   "source": [
    "import numpy as np"
   ]
  },
  {
   "cell_type": "markdown",
   "metadata": {},
   "source": [
    "## np 배열 생성 \n",
    "### 리스트와 비교\n",
    "    array() 함수 사용"
   ]
  },
  {
   "cell_type": "code",
   "execution_count": 10,
   "metadata": {},
   "outputs": [
    {
     "name": "stdout",
     "output_type": "stream",
     "text": [
      "[4, 5, 6, 7]\n",
      "[4 5 6 7]\n",
      "<class 'list'>\n",
      "<class 'numpy.ndarray'>\n",
      "[5, 6]\n",
      "[5 6]\n",
      "[-5, 6]\n",
      "[-5  6]\n",
      "******************************\n",
      "[4, 5, 6, 7]\n",
      "[ 4 -5  6  7]\n"
     ]
    }
   ],
   "source": [
    "myList = [4,5,6,7]\n",
    "myArr = np.array(myList)\n",
    "\n",
    "print(myList)\n",
    "print(myArr)\n",
    "\n",
    "print(type(myList))\n",
    "print(type(myArr))\n",
    "\n",
    "'''\n",
    "ndarray는 출력 결과 [ ] 안에 값들이 나열되지만 ,로 구분되진 않는다.\n",
    "ndarray타입\n",
    "ndarray 클래스는 다차원 행렬구조를 지원하는 Numpy의 핵심 클래스\n",
    "\n",
    "'''\n",
    "myList_sub = myList[1:3]\n",
    "print(myList_sub)\n",
    "\n",
    "myArr_sub = myArr[1:3]\n",
    "print(myArr_sub)\n",
    "\n",
    "myList_sub[0] = -5\n",
    "myArr_sub[0] = -5\n",
    "print(myList_sub)\n",
    "print(myArr_sub)\n",
    "\n",
    "print(\"*\" * 30)\n",
    "\n",
    "'''\n",
    "리스트는 원본이 안 바뀐다. 변경되면 기존의 것을 카피해놓고 새로운 것을 만든다.\n",
    "반면에 np배열은 원본뷰가 바뀌어버린다.\n",
    "이것이 리스트와 np배열의 가장 큰 차이점이다.\n",
    "메모리 효율성과 연관되는 부분이다.\n",
    "'''\n",
    "\n",
    "print(myList) # list => 원본이 안 바뀐다.\n",
    "print(myArr) # np배열 => 원본이 바뀐다."
   ]
  },
  {
   "cell_type": "markdown",
   "metadata": {},
   "source": [
    "### np.random 사용하기"
   ]
  },
  {
   "cell_type": "markdown",
   "metadata": {},
   "source": [
    "#### rand() 함수 사용하기"
   ]
  },
  {
   "cell_type": "code",
   "execution_count": 12,
   "metadata": {},
   "outputs": [
    {
     "name": "stdout",
     "output_type": "stream",
     "text": [
      "[0.88049062 0.11804139 0.23027837 0.38924963 0.64961181]\n",
      "<class 'numpy.ndarray'>\n"
     ]
    }
   ],
   "source": [
    "a = np.random.rand(5)\n",
    "print(a)\n",
    "print(type(a))"
   ]
  },
  {
   "cell_type": "markdown",
   "metadata": {},
   "source": [
    "#### randint() 함수 사용하기"
   ]
  },
  {
   "cell_type": "code",
   "execution_count": 17,
   "metadata": {},
   "outputs": [
    {
     "name": "stdout",
     "output_type": "stream",
     "text": [
      "[4 2 1 6 1]\n",
      "<class 'numpy.ndarray'>\n"
     ]
    }
   ],
   "source": [
    "b = np.random.randint(1,10,5)\n",
    "print(b)\n",
    "print(type(b))"
   ]
  },
  {
   "cell_type": "markdown",
   "metadata": {},
   "source": [
    "#### randn() 함수 사용하기\n",
    "    가우시안 표준분포에 해당하는 값을 뽑아냄"
   ]
  },
  {
   "cell_type": "code",
   "execution_count": 18,
   "metadata": {},
   "outputs": [
    {
     "name": "stdout",
     "output_type": "stream",
     "text": [
      "[-0.90998277 -0.06878845  1.72072705  1.12136733 -0.89303558 -1.38616033\n",
      "  2.05390119  0.15333402  0.86693588  0.31979775]\n",
      "<class 'numpy.ndarray'>\n"
     ]
    }
   ],
   "source": [
    "c = np.random.randn(10)\n",
    "print(c)\n",
    "print(type(c))"
   ]
  },
  {
   "cell_type": "markdown",
   "metadata": {},
   "source": [
    "### np배열의 초기화\n",
    "    zeros(), ones(), arange()...함수를 이용해서 배열 생성과 동시에 특정한 값으로\n",
    "    초기화할 수 있다."
   ]
  },
  {
   "cell_type": "code",
   "execution_count": 30,
   "metadata": {},
   "outputs": [
    {
     "name": "stdout",
     "output_type": "stream",
     "text": [
      "[0. 0. 0. 0. 0. 0. 0. 0. 0. 0.]\n",
      "[1. 1. 1. 1. 1. 1. 1. 1. 1. 1.]\n",
      "[[1. 0. 0.]\n",
      " [0. 1. 0.]\n",
      " [0. 0. 1.]]\n",
      "[0 1 2]\n",
      "[3 4 5 6]\n",
      "[3 5 7 9]\n",
      "******************************\n",
      "[7. 7. 7. 7. 7. 7. 7. 7. 7. 7.]\n",
      "[[-11 -11 -11 -11 -11]\n",
      " [-11 -11 -11 -11 -11]\n",
      " [-11 -11 -11 -11 -11]\n",
      " [-11 -11 -11 -11 -11]\n",
      " [-11 -11 -11 -11 -11]]\n",
      "[[23 23 23 23 23]\n",
      " [23 23 23 23 23]\n",
      " [23 23 23 23 23]\n",
      " [23 23 23 23 23]\n",
      " [23 23 23 23 23]\n",
      " [23 23 23 23 23]\n",
      " [23 23 23 23 23]]\n"
     ]
    }
   ],
   "source": [
    "# 1.\n",
    "az = np.zeros(10)\n",
    "print(az)\n",
    "\n",
    "#2. 1값으로 이뤄진 크기가 10인 배열 생성\n",
    "ao = np.ones(10)\n",
    "print(ao)\n",
    "\n",
    "#3. 3 by 3 단위의 배열 생성(대각선에는 1)\n",
    "ae = np.eye(3)\n",
    "print(ae)\n",
    "\n",
    "#4. arange()\n",
    "print(np.arange(3))\n",
    "print(np.arange(3,7))\n",
    "print(np.arange(3,10,2))\n",
    "\n",
    "print(\"*\"*30)\n",
    "\n",
    "a7 = np.zeros(10)+7\n",
    "print(a7)\n",
    "\n",
    "af = np.full((5,5),-11)\n",
    "print(af)\n",
    "\n",
    "af = np.full((7,5),23)\n",
    "print(af)"
   ]
  },
  {
   "cell_type": "markdown",
   "metadata": {},
   "source": [
    "### np배열과 리스트의 차이점\n",
    "    1. np배열은 원본을 바로 바꿈으로써 메모리 효율성이 뛰어나다\n",
    "    2. 리스트는 여러가지 자료형이 원소로 올 수 있지만\n",
    "       np배열은 한가지 자료형만 원소로 쓰일 수 있다."
   ]
  },
  {
   "cell_type": "code",
   "execution_count": 35,
   "metadata": {},
   "outputs": [
    {
     "name": "stdout",
     "output_type": "stream",
     "text": [
      "[1, 2, 3, '4', 4, '하바리']\n",
      "<class 'list'>\n",
      "['1' '2' '3' '4' '4' '하바리']\n",
      "<class 'numpy.ndarray'>\n",
      "[1.6 3.  8.  3. ]\n",
      "[1. 2. 3. 4.]\n"
     ]
    }
   ],
   "source": [
    "# 리스트는 자료형 구조로 서로 다른 자료형이 원소로 올 수 있다.\n",
    "L = [1,2,3,'4',4,'하바리']\n",
    "print(L)\n",
    "print(type(L))\n",
    "\n",
    "# np.array는 하나의 자료형만 저장 가능\n",
    "A = np.array(L)\n",
    "print(A)\n",
    "print(type(A))\n",
    "# capa가 더 큰 자료형으로 변환\n",
    "A2 = np.array([1.6,3,8,3])\n",
    "print(A2)\n",
    "\n",
    "A3 = np.array([1,2,3,4], dtype=\"float\")\n",
    "print(A3)\n",
    "\n",
    "A4 = np.array([1,2,3,4], dtype=np.float64)\n",
    "print(A4)"
   ]
  },
  {
   "cell_type": "markdown",
   "metadata": {},
   "source": [
    "### Numpy 배열에서 사용되는 함수, 속성\n",
    "    ndim shape reshape() size type dtype astype()"
   ]
  },
  {
   "cell_type": "code",
   "execution_count": 37,
   "metadata": {},
   "outputs": [
    {
     "data": {
      "text/plain": [
       "array([[1, 2, 3],\n",
       "       [4, 5, 6]])"
      ]
     },
     "execution_count": 37,
     "metadata": {},
     "output_type": "execute_result"
    }
   ],
   "source": [
    "arr1 = np.array([[1.0, 2,3],[4,5,6]], dtype = np.int32) # 속성인 dtype을 정수로 지정해주기\n",
    "arr1"
   ]
  },
  {
   "cell_type": "code",
   "execution_count": 47,
   "metadata": {},
   "outputs": [
    {
     "name": "stdout",
     "output_type": "stream",
     "text": [
      "<class 'numpy.ndarray'>\n",
      "2\n",
      "(2, 3)\n",
      "6\n",
      "******************************\n",
      "2\n",
      "(2, 3)\n",
      "6\n",
      "int32\n",
      "******************************\n",
      "[[1. 2. 3.]\n",
      " [4. 5. 6.]]\n",
      "******************************\n",
      "[ 0  1  2  3  4  5  6  7  8  9 10 11 12 13 14 15 16 17 18 19 20 21 22 23\n",
      " 24 25 26 27 28 29 30 31]\n",
      "[[ 0  1  2  3  4  5  6  7]\n",
      " [ 8  9 10 11 12 13 14 15]\n",
      " [16 17 18 19 20 21 22 23]\n",
      " [24 25 26 27 28 29 30 31]]\n"
     ]
    }
   ],
   "source": [
    "# 기능\n",
    "print(type(arr1))\n",
    "print(np.ndim(arr1)) # 매트릭스\n",
    "print(np.shape(arr1)) # 몇행 몇열\n",
    "print(np.size(arr1)) # 개수\n",
    "\n",
    "# 속성\n",
    "print(\"*\"*30)\n",
    "print(arr1.ndim)\n",
    "print(arr1.shape)\n",
    "print(arr1.size)\n",
    "print(arr1.dtype)\n",
    "\n",
    "print(\"*\"*30)\n",
    "# ndarray 안에 들어있는 모든 요소들의 타입을 한방에 바꿔버리는 기능...astype\n",
    "\n",
    "arr1_1 = arr1.astype(np.float32)\n",
    "print(arr1_1)\n",
    "\n",
    "print(\"*\"*30)\n",
    "arr2 = np.arange(32)\n",
    "print(arr2)\n",
    "\n",
    "arr2_1 = np.arange(32).reshape(4,8)\n",
    "print(arr2_1)"
   ]
  },
  {
   "cell_type": "code",
   "execution_count": null,
   "metadata": {},
   "outputs": [],
   "source": []
  }
 ],
 "metadata": {
  "kernelspec": {
   "display_name": "Python 3",
   "language": "python",
   "name": "python3"
  },
  "language_info": {
   "codemirror_mode": {
    "name": "ipython",
    "version": 3
   },
   "file_extension": ".py",
   "mimetype": "text/x-python",
   "name": "python",
   "nbconvert_exporter": "python",
   "pygments_lexer": "ipython3",
   "version": "3.8.5"
  }
 },
 "nbformat": 4,
 "nbformat_minor": 4
}
