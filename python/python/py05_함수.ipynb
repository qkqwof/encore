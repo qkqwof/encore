{
 "cells": [
  {
   "cell_type": "markdown",
   "metadata": {},
   "source": [
    "## 함수"
   ]
  },
  {
   "cell_type": "markdown",
   "metadata": {},
   "source": [
    "### 머신, 딥러닝 코드를 다루다 보면 함수 정의 부분이 중요하다\n",
    "    1. 함수 정의 기본 문법\n",
    "    def 함수이름(매개변수):\n",
    "        수행할 문장1\n",
    "        수행할 문장2\n",
    "        \n",
    "    2. 함수를 만드는 방법 4가지\n",
    "        1) 위치매개변수\n",
    "        2) 기본매개변수\n",
    "        3) 키워드매개변수\n",
    "        4) 가변매개변수"
   ]
  },
  {
   "cell_type": "code",
   "execution_count": 1,
   "metadata": {},
   "outputs": [
    {
     "name": "stdout",
     "output_type": "stream",
     "text": [
      "8\n"
     ]
    }
   ],
   "source": [
    "# 1. 위치매개변수\n",
    "# 가장 기본적인 인자값 전달방식, 함수에서 정의한 위치대로 인자값이 할당됨\n",
    "def calc(num1,num2):\n",
    "    '''\n",
    "    인자값으로 받은 num1, num2\n",
    "    2개의 값을 더해서 result 로컬변수에 할당\n",
    "    그 값을 리턴하는 기능을 구현\n",
    "    '''\n",
    "    \n",
    "    result = num1+num2\n",
    "    return result\n",
    "\n",
    "print(calc(3,5))"
   ]
  },
  {
   "cell_type": "code",
   "execution_count": 2,
   "metadata": {},
   "outputs": [
    {
     "ename": "SyntaxError",
     "evalue": "invalid syntax (<ipython-input-2-86b55e31a31b>, line 1)",
     "output_type": "error",
     "traceback": [
      "\u001b[1;36m  File \u001b[1;32m\"<ipython-input-2-86b55e31a31b>\"\u001b[1;36m, line \u001b[1;32m1\u001b[0m\n\u001b[1;33m    calc?? # 함수에 대한 소스코드가 보인다.(사용자 정의 함수...)\u001b[0m\n\u001b[1;37m        ^\u001b[0m\n\u001b[1;31mSyntaxError\u001b[0m\u001b[1;31m:\u001b[0m invalid syntax\n"
     ]
    }
   ],
   "source": [
    "calc?? # 함수에 대한 소스코드가 보인다.(사용자 정의 함수...)"
   ]
  },
  {
   "cell_type": "code",
   "execution_count": 4,
   "metadata": {},
   "outputs": [
    {
     "name": "stdout",
     "output_type": "stream",
     "text": [
      "3와 4의 합은 7입니다.\n"
     ]
    }
   ],
   "source": [
    "# 리턴값이 없는 경우\n",
    "def add(a,b):\n",
    "    print(\"%d와 %d의 합은 %d입니다.\" %(a,b,a+b))\n",
    "    '''\n",
    "    return문 자체가 없으면 함수는 None 객체를 리턴한다.\n",
    "    '''\n",
    "    \n",
    "add(3,4)"
   ]
  },
  {
   "cell_type": "code",
   "execution_count": 8,
   "metadata": {},
   "outputs": [
    {
     "name": "stdout",
     "output_type": "stream",
     "text": [
      "10\n",
      "10\n"
     ]
    }
   ],
   "source": [
    "# 2. 기본매개변수\n",
    "# 변수값을 입력하지 않으면 기본값이 활성화됨.\n",
    "# 기본매개변수는 반드시 일반매개변수 뒤에 나와야 한다.\n",
    "def calc1(end, start = 0):\n",
    "#def calc1(start = 0,end):\n",
    "    total = 0\n",
    "    for i in range(start,end):\n",
    "        total += i\n",
    "    return total\n",
    "print(calc1(5,1))\n",
    "print(calc1(5)) # 에러나지 않는다...기본값이 활성화 되어져서 돌아간다."
   ]
  },
  {
   "cell_type": "code",
   "execution_count": 11,
   "metadata": {},
   "outputs": [],
   "source": [
    "# 실제로 기본매개변수 사용이 많이 있다.\n",
    "import pandas as pd\n",
    "from pandas import DataFrame\n",
    "\n",
    "pd.read_csv?"
   ]
  },
  {
   "cell_type": "code",
   "execution_count": 14,
   "metadata": {},
   "outputs": [
    {
     "name": "stdout",
     "output_type": "stream",
     "text": [
      "나의 이름은  홍길동 이고 나이는  19 입니다.\n",
      "나의 이름은  30 이고 나이는  홍길동 입니다.\n",
      "나의 이름은  홍길동 이고 나이는  30 입니다.\n"
     ]
    }
   ],
   "source": [
    "# 3. 키워드매개변수 : 순서에 상관없이 직접 매개변수를 지정해서 전달한다.\n",
    "# 주의할 점은 함수 호출시에 매개변수명을 정확히 알아야 한다.\n",
    "\n",
    "def calc2(name,age):\n",
    "    print(\"나의 이름은 \",name,\"이고 나이는 \",age,\"입니다.\")\n",
    "    \n",
    "calc2(\"홍길동\",19) #위치매개변수\n",
    "\n",
    "calc2(30,\"홍길동\") # 에러는 안나고 단지 잘못된 값이 전달된다.\n",
    "\n",
    "calc2(age = 30, name = \"홍길동\") # 키워드매개변수"
   ]
  },
  {
   "cell_type": "code",
   "execution_count": 20,
   "metadata": {},
   "outputs": [
    {
     "data": {
      "text/html": [
       "<div>\n",
       "<style scoped>\n",
       "    .dataframe tbody tr th:only-of-type {\n",
       "        vertical-align: middle;\n",
       "    }\n",
       "\n",
       "    .dataframe tbody tr th {\n",
       "        vertical-align: top;\n",
       "    }\n",
       "\n",
       "    .dataframe thead th {\n",
       "        text-align: right;\n",
       "    }\n",
       "</style>\n",
       "<table border=\"1\" class=\"dataframe\">\n",
       "  <thead>\n",
       "    <tr style=\"text-align: right;\">\n",
       "      <th></th>\n",
       "      <th>e</th>\n",
       "      <th>f</th>\n",
       "      <th>g</th>\n",
       "      <th>h</th>\n",
       "    </tr>\n",
       "  </thead>\n",
       "  <tbody>\n",
       "    <tr>\n",
       "      <th>a</th>\n",
       "      <td>-0.683662</td>\n",
       "      <td>-0.665883</td>\n",
       "      <td>0.928258</td>\n",
       "      <td>-0.301360</td>\n",
       "    </tr>\n",
       "    <tr>\n",
       "      <th>b</th>\n",
       "      <td>-1.628141</td>\n",
       "      <td>0.936109</td>\n",
       "      <td>-2.322698</td>\n",
       "      <td>0.628063</td>\n",
       "    </tr>\n",
       "    <tr>\n",
       "      <th>c</th>\n",
       "      <td>1.474809</td>\n",
       "      <td>0.058764</td>\n",
       "      <td>0.029524</td>\n",
       "      <td>0.377797</td>\n",
       "    </tr>\n",
       "    <tr>\n",
       "      <th>d</th>\n",
       "      <td>0.517539</td>\n",
       "      <td>0.214091</td>\n",
       "      <td>-1.035639</td>\n",
       "      <td>-0.870953</td>\n",
       "    </tr>\n",
       "  </tbody>\n",
       "</table>\n",
       "</div>"
      ],
      "text/plain": [
       "          e         f         g         h\n",
       "a -0.683662 -0.665883  0.928258 -0.301360\n",
       "b -1.628141  0.936109 -2.322698  0.628063\n",
       "c  1.474809  0.058764  0.029524  0.377797\n",
       "d  0.517539  0.214091 -1.035639 -0.870953"
      ]
     },
     "execution_count": 20,
     "metadata": {},
     "output_type": "execute_result"
    }
   ],
   "source": [
    "# 키워드 매개변수 사용 예\n",
    "import numpy as np\n",
    "import pandas as pd\n",
    "from pandas import DataFrame\n",
    "#from 모듈명 import 서브모듈(또는 함수이름)\n",
    "\n",
    "df1 = DataFrame(np.random.randn(4,4), index = list(\"abcd\"), columns=list(\"efgh\"))\n",
    "df1"
   ]
  },
  {
   "cell_type": "code",
   "execution_count": 23,
   "metadata": {},
   "outputs": [
    {
     "name": "stdout",
     "output_type": "stream",
     "text": [
      "(3,)\n",
      "(3, 4, 5, 6)\n"
     ]
    }
   ],
   "source": [
    "# 4. 가변 매개변수 : 인자값이 몇개인지 모르는 상황에서 사용되어지는 함수\n",
    "# 파이썬에서 print()함수가 대표적이다. 원하는 만큼의 인자값을 받을 수 있도록 작성\n",
    "# 일반매개변수와 다르게 변수명 앞에 *을 붙임\n",
    "# 역시 가변매개변수 뒤에 일반매개변수가 뒤에 올 수 없다.\n",
    "# 가변 매개변수는 하나만 사용해야 한다.\n",
    "\n",
    "def calc3(*args):\n",
    "    print(args)\n",
    "calc3(3)\n",
    "calc3(3,4,5,6) # 출력은 튜플 타입으로 된다."
   ]
  },
  {
   "cell_type": "code",
   "execution_count": 24,
   "metadata": {},
   "outputs": [
    {
     "name": "stdout",
     "output_type": "stream",
     "text": [
      "{'name': 'James', 'age': 44, 'address': 'NY'}\n"
     ]
    }
   ],
   "source": [
    "# 5. \n",
    "def calc4(**args):\n",
    "    print(args)\n",
    "    \n",
    "# calc4(1,2) 에러난다\n",
    "\n",
    "'''\n",
    "**이 2개일 때는 반드시\n",
    "인자값 입력시 주의를 요한다.\n",
    "딕셔너리 타입!!\n",
    "'''\n",
    "\n",
    "calc4(name=\"James\",age=44,address=\"NY\")"
   ]
  },
  {
   "cell_type": "code",
   "execution_count": 25,
   "metadata": {},
   "outputs": [
    {
     "name": "stdout",
     "output_type": "stream",
     "text": [
      "James : (3, 4, 5)\n"
     ]
    }
   ],
   "source": [
    "# 일반 매개변수와 가변매개변수를 함께 사용하는 경우\n",
    "def calc5(name, *args):\n",
    "    print(name,\":\",args)\n",
    "calc5(\"James\",3,4,5)"
   ]
  },
  {
   "cell_type": "markdown",
   "metadata": {},
   "source": [
    "## 문제1"
   ]
  },
  {
   "cell_type": "markdown",
   "metadata": {},
   "source": [
    "#### 가변매개변수와 일반매개변수를 함께 사용\n",
    "    3\n",
    "    6\n",
    "    9\n",
    "    가 출력되도록"
   ]
  },
  {
   "cell_type": "code",
   "execution_count": 27,
   "metadata": {},
   "outputs": [
    {
     "name": "stdout",
     "output_type": "stream",
     "text": [
      "3\n",
      "6\n",
      "9\n",
      "12\n",
      "15\n",
      "18\n",
      "21\n",
      "24\n",
      "27\n",
      "30\n"
     ]
    }
   ],
   "source": [
    "def value_time(times,*values):\n",
    "    for value in values:\n",
    "        print(times * value)\n",
    "value_time(3,1,2,3,4,5,6,7,8,9,10)"
   ]
  },
  {
   "cell_type": "code",
   "execution_count": 30,
   "metadata": {},
   "outputs": [
    {
     "name": "stdout",
     "output_type": "stream",
     "text": [
      "2\n",
      "4\n",
      "6\n",
      "8\n",
      "10\n",
      "**********\n",
      "5\n",
      "10\n",
      "15\n",
      "20\n",
      "25\n"
     ]
    }
   ],
   "source": [
    "def value_times(*values,times=2):\n",
    "    for value in values:\n",
    "        print(times * value)\n",
    "value_times(1,2,3,4,5)\n",
    "print(\"*\"*10)\n",
    "value_times(1,2,3,4,5,times=5)"
   ]
  },
  {
   "cell_type": "markdown",
   "metadata": {},
   "source": [
    "### 모듈 사용하기\n",
    "    다른 곳에 정의된 모듈을 받아올 때는 import 사용한다.\n",
    "    모듈을 import 해올 때는 반드시 .py(파이썬) 확장자만 가능하다."
   ]
  },
  {
   "cell_type": "code",
   "execution_count": 39,
   "metadata": {},
   "outputs": [],
   "source": [
    "# 1. 모듈 가져오기\n",
    "import cal"
   ]
  },
  {
   "cell_type": "code",
   "execution_count": 40,
   "metadata": {},
   "outputs": [
    {
     "name": "stdout",
     "output_type": "stream",
     "text": [
      "CUSTOM_MODULE 7 5\n"
     ]
    }
   ],
   "source": [
    "var1 = cal.modulename\n",
    "var2 = cal.plus(3,4)\n",
    "var3 = cal.minus(7,2)\n",
    "\n",
    "print(var1,var2,var3)"
   ]
  },
  {
   "cell_type": "code",
   "execution_count": 41,
   "metadata": {},
   "outputs": [
    {
     "name": "stdout",
     "output_type": "stream",
     "text": [
      "CUSTOM_MODULE 7 5\n"
     ]
    }
   ],
   "source": [
    "# 2. 모듈 가져오기\n",
    "from cal import plus, minus\n",
    "\n",
    "var11 = cal.modulename\n",
    "var22 = plus(3,4)\n",
    "var33 = minus(7,2)\n",
    "\n",
    "print(var11,var22,var33)"
   ]
  },
  {
   "cell_type": "code",
   "execution_count": 42,
   "metadata": {},
   "outputs": [
    {
     "name": "stdout",
     "output_type": "stream",
     "text": [
      "3\n",
      "5\n"
     ]
    }
   ],
   "source": [
    "# 3. 모듈 가져오기\n",
    "from random import randrange\n",
    "import math\n",
    "num = randrange(1,10)\n",
    "print(num)\n",
    "\n",
    "num1 = math.ceil(4.3)\n",
    "print(num1)"
   ]
  }
 ],
 "metadata": {
  "kernelspec": {
   "display_name": "Python 3",
   "language": "python",
   "name": "python3"
  },
  "language_info": {
   "codemirror_mode": {
    "name": "ipython",
    "version": 3
   },
   "file_extension": ".py",
   "mimetype": "text/x-python",
   "name": "python",
   "nbconvert_exporter": "python",
   "pygments_lexer": "ipython3",
   "version": "3.8.5"
  }
 },
 "nbformat": 4,
 "nbformat_minor": 4
}
