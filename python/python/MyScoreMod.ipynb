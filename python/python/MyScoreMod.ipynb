{
 "cells": [
  {
   "cell_type": "code",
   "execution_count": 1,
   "metadata": {},
   "outputs": [
    {
     "data": {
      "text/plain": [
       "'\\n5개의 함수를 가지는 모듈\\ngetSum(data)\\ngetMean(data)\\ngetMax(data)\\ngetMin(data)\\n\\ngetTwoSum(1,3)\\n'"
      ]
     },
     "execution_count": 1,
     "metadata": {},
     "output_type": "execute_result"
    }
   ],
   "source": [
    "'''\n",
    "5개의 함수를 가지는 모듈\n",
    "getSum(data)\n",
    "getMean(data)\n",
    "getMax(data)\n",
    "getMin(data)\n",
    "\n",
    "getTwoSum(1,3)\n",
    "'''"
   ]
  },
  {
   "cell_type": "code",
   "execution_count": 2,
   "metadata": {},
   "outputs": [
    {
     "name": "stdout",
     "output_type": "stream",
     "text": [
      "Overwriting MyScoreMod.py\n"
     ]
    }
   ],
   "source": [
    "%%writefile MyScoreMod.py\n",
    "\n",
    "# MyScore 변수... 기능...\n",
    "def getSum(data):\n",
    "    total = 0\n",
    "    \n",
    "    for i in data:\n",
    "        total += i\n",
    "    return total\n",
    "\n",
    "def getMean(data):\n",
    "    return getSum(data)/len(data)\n",
    "\n",
    "def getMax(data):\n",
    "    maxV = data[0]\n",
    "    for i in data[1:]:\n",
    "        if i > maxV:\n",
    "            maxV = i\n",
    "    return maxV\n",
    "\n",
    "def getMin(data):\n",
    "    minV = data[0]\n",
    "    for i in data[1:]:\n",
    "        if i<minV:\n",
    "            minV = i\n",
    "    return minV\n",
    "\n",
    "# num1에 더 큰 값이 들어왔을 떄를 고려해서 작성...\n",
    "def getTwoSum(num2, num1=1): # 두 수 사이의 합을 구하는 함수\n",
    "    total = 0\n",
    "    if num1 > num2:\n",
    "        num1, num2 = num2, num1 # 두 수를 스왑시킴\n",
    "    for i in range(num1, num2+1):\n",
    "        total += i\n",
    "    return total"
   ]
  },
  {
   "cell_type": "code",
   "execution_count": null,
   "metadata": {},
   "outputs": [],
   "source": []
  }
 ],
 "metadata": {
  "kernelspec": {
   "display_name": "Python 3",
   "language": "python",
   "name": "python3"
  },
  "language_info": {
   "codemirror_mode": {
    "name": "ipython",
    "version": 3
   },
   "file_extension": ".py",
   "mimetype": "text/x-python",
   "name": "python",
   "nbconvert_exporter": "python",
   "pygments_lexer": "ipython3",
   "version": "3.8.5"
  }
 },
 "nbformat": 4,
 "nbformat_minor": 4
}
