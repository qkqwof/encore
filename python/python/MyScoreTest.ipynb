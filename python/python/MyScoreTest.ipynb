{
 "cells": [
  {
   "cell_type": "code",
   "execution_count": 1,
   "metadata": {},
   "outputs": [],
   "source": [
    "import MyScoreMod as ms\n",
    "from MyScoreMod import getSum, getMean, getMax, getMin, getTwoSum"
   ]
  },
  {
   "cell_type": "code",
   "execution_count": 2,
   "metadata": {},
   "outputs": [
    {
     "name": "stdout",
     "output_type": "stream",
     "text": [
      "값입력1,2,3\n",
      "[1, 2, 3]\n",
      "총합 : 6\n",
      "평균 : 2.0\n",
      "최댓값 : 3\n",
      "최소값 : 1\n",
      "******************************\n",
      "TwoSum : 6\n",
      "TwoSum : 6\n",
      "TwoSum : 6\n",
      "__main__\n"
     ]
    }
   ],
   "source": [
    "# main 역할\n",
    "dataL = input(\"값입력\").split(\",\") # 1,2,3\n",
    "#print(dataL) #['1','2','3']\n",
    "\n",
    "intdataL = [int(i) for i in dataL]\n",
    "print(intdataL)\n",
    "\n",
    "res = getSum(intdataL)\n",
    "print(\"총합 :\", res)\n",
    "print(\"평균 :\", getMean(intdataL))\n",
    "print(\"최댓값 :\",getMax(intdataL))\n",
    "print(\"최소값 :\",getMin(intdataL))\n",
    "\n",
    "print(\"*\"*30)\n",
    "\n",
    "print(\"TwoSum :\",getTwoSum(1,3))\n",
    "print(\"TwoSum :\",getTwoSum(3,1))\n",
    "print(\"TwoSum :\",getTwoSum(3))\n",
    "\n",
    "# 직접 실행되는 모듈은 MyScoreTest\n",
    "# 간접 실행되는 모듈은 MyScoreMod (import 해온 것)\n",
    "\n",
    "'''\n",
    "__name__ 변수란?\n",
    "\n",
    "파이썬에서 __name__ 변수는 내부적으로 사용되는 특별한 변수이다.\n",
    "지금처럼 직접적으로 실행되는 파일의 __name__ 변수값에는 __main__ 이름이 저장된다.\n",
    "반대로 간접적으로(import 되어진) 실행되는 파일은 모듈명이 저장된다.\n",
    "'''\n",
    "\n",
    "if __name__ == \"__main__\": #직접 실행되고 있는 파일이라면\n",
    "    print(__name__)"
   ]
  },
  {
   "cell_type": "code",
   "execution_count": null,
   "metadata": {},
   "outputs": [],
   "source": []
  }
 ],
 "metadata": {
  "kernelspec": {
   "display_name": "Python 3",
   "language": "python",
   "name": "python3"
  },
  "language_info": {
   "codemirror_mode": {
    "name": "ipython",
    "version": 3
   },
   "file_extension": ".py",
   "mimetype": "text/x-python",
   "name": "python",
   "nbconvert_exporter": "python",
   "pygments_lexer": "ipython3",
   "version": "3.8.5"
  }
 },
 "nbformat": 4,
 "nbformat_minor": 4
}
