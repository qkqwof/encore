{
 "cells": [
  {
   "cell_type": "markdown",
   "metadata": {},
   "source": [
    "### 1. 클래스 정의하기"
   ]
  },
  {
   "cell_type": "code",
   "execution_count": 1,
   "metadata": {},
   "outputs": [],
   "source": [
    "class Person:\n",
    "    #생성자 정의\n",
    "    def __init__(self, name, age, addr): #초기화 변수들을 다 넣는다... 자동으로 호출\n",
    "        self.name = name\n",
    "        self.age = age\n",
    "        self.addr = addr\n",
    "    \n",
    "    #함수 정의\n",
    "    def greeting(self): #Person 클래스의 메소드이다...란 의미(self)\n",
    "        print(\"안녕하세요\")\n",
    "        \n",
    "    def sing(self):\n",
    "        self.greeting()\n",
    "        print(\"랄라랄랄\")\n",
    "    #변수 정의"
   ]
  },
  {
   "cell_type": "markdown",
   "metadata": {},
   "source": [
    "### 2. 클래스 객체 생성하기"
   ]
  },
  {
   "cell_type": "code",
   "execution_count": 4,
   "metadata": {},
   "outputs": [],
   "source": [
    "#james = Person()\n",
    "james = Person(\"James Corner\",33,\"NY\")\n",
    "peter = Person(\"PETER\",44,\"Brandon\")\n",
    "jane = Person(\"JANE\",55,\"Texas\")"
   ]
  },
  {
   "cell_type": "markdown",
   "metadata": {},
   "source": [
    "### 3. 멤버 접근해서 정보 확인하기"
   ]
  },
  {
   "cell_type": "code",
   "execution_count": 7,
   "metadata": {},
   "outputs": [
    {
     "name": "stdout",
     "output_type": "stream",
     "text": [
      "안녕하세요\n",
      "안녕하세요\n",
      "랄라랄랄\n"
     ]
    }
   ],
   "source": [
    "james.name\n",
    "james.age\n",
    "james.greeting()\n",
    "james.sing()"
   ]
  },
  {
   "cell_type": "markdown",
   "metadata": {},
   "source": [
    "### 4. 상속하기"
   ]
  },
  {
   "cell_type": "code",
   "execution_count": 8,
   "metadata": {},
   "outputs": [
    {
     "name": "stdout",
     "output_type": "stream",
     "text": [
      "자동차\n"
     ]
    }
   ],
   "source": [
    "class Car:\n",
    "    carType = \"자동차\"\n",
    "    \n",
    "class Hyundai(Car):\n",
    "    pass\n",
    "\n",
    "sonata = Hyundai()\n",
    "print(sonata.carType)"
   ]
  },
  {
   "cell_type": "code",
   "execution_count": null,
   "metadata": {},
   "outputs": [],
   "source": []
  }
 ],
 "metadata": {
  "kernelspec": {
   "display_name": "Python 3",
   "language": "python",
   "name": "python3"
  },
  "language_info": {
   "codemirror_mode": {
    "name": "ipython",
    "version": 3
   },
   "file_extension": ".py",
   "mimetype": "text/x-python",
   "name": "python",
   "nbconvert_exporter": "python",
   "pygments_lexer": "ipython3",
   "version": "3.8.5"
  }
 },
 "nbformat": 4,
 "nbformat_minor": 4
}
