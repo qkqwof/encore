{
 "cells": [
  {
   "cell_type": "markdown",
   "metadata": {},
   "source": [
    "### 조건문, 제어문(if, elif, else)"
   ]
  },
  {
   "cell_type": "code",
   "execution_count": 1,
   "metadata": {},
   "outputs": [
    {
     "name": "stdout",
     "output_type": "stream",
     "text": [
      "a is 3...\n"
     ]
    }
   ],
   "source": [
    "a = 3\n",
    "if a % 2 == 0:\n",
    "    print(\"EVEN...\")\n",
    "else:\n",
    "    if a == 1:\n",
    "        print(\"a is 1...\")\n",
    "    elif a == 3:\n",
    "        print(\"a is 3...\")"
   ]
  },
  {
   "cell_type": "code",
   "execution_count": 3,
   "metadata": {},
   "outputs": [
    {
     "name": "stdout",
     "output_type": "stream",
     "text": [
      "성적입력>>>78\n",
      "C grade\n"
     ]
    }
   ],
   "source": [
    "grade = int(input(\"성적입력>>>\"))\n",
    "#print(type(grade))\n",
    "\n",
    "if grade >= 90:\n",
    "    print(\"A grade\")\n",
    "elif grade >= 80 and grade < 90:\n",
    "    '''\n",
    "    이 부분도 심지어\n",
    "    tab 키에 맞춰서 작성되어져야 한다.\n",
    "    '''\n",
    "    print(\"B grade\")\n",
    "elif grade >= 70 and grade < 80:\n",
    "    print(\"C grade\")\n",
    "else:\n",
    "    print(\"Nuts\")"
   ]
  },
  {
   "cell_type": "markdown",
   "metadata": {},
   "source": [
    "### 반복문(for, while)"
   ]
  },
  {
   "cell_type": "code",
   "execution_count": 7,
   "metadata": {},
   "outputs": [
    {
     "name": "stdout",
     "output_type": "stream",
     "text": [
      "미나리\n",
      "조커\n",
      "경계선\n",
      "스타워즈\n",
      "****************************************\n",
      "미나리\n",
      "조커\n",
      "경계선\n",
      "스타워즈\n"
     ]
    }
   ],
   "source": [
    "movie_list = [\"미나리\",\"조커\",\"경계선\",\"스타워즈\"]\n",
    "\n",
    "#1. for \n",
    "for movie in movie_list:\n",
    "    print(movie)\n",
    "\n",
    "print(\"*\"*40)\n",
    "\n",
    "#2. range() 사용\n",
    "for idx in range(len(movie_list)):\n",
    "    print(movie_list[idx])"
   ]
  },
  {
   "cell_type": "markdown",
   "metadata": {},
   "source": [
    "### 문제 1. \n",
    "    키보드로 값들을 입력받습니다.\n",
    "    입력받은 값의 전체의 합을 구하는 로직을 작성\n",
    "    ex) 3,4,5,6을 입력 받은 값 세팅"
   ]
  },
  {
   "cell_type": "code",
   "execution_count": 42,
   "metadata": {},
   "outputs": [
    {
     "name": "stdout",
     "output_type": "stream",
     "text": [
      "키보드로 정수값을 입력하세요3 4 5 6\n"
     ]
    },
    {
     "ename": "TypeError",
     "evalue": "'int' object is not callable",
     "output_type": "error",
     "traceback": [
      "\u001b[1;31m---------------------------------------------------------------------------\u001b[0m",
      "\u001b[1;31mTypeError\u001b[0m                                 Traceback (most recent call last)",
      "\u001b[1;32m<ipython-input-42-8053de8be43c>\u001b[0m in \u001b[0;36m<module>\u001b[1;34m\u001b[0m\n\u001b[0;32m     14\u001b[0m \u001b[1;31m#3.\u001b[0m\u001b[1;33m\u001b[0m\u001b[1;33m\u001b[0m\u001b[1;33m\u001b[0m\u001b[0m\n\u001b[0;32m     15\u001b[0m \u001b[0mintData\u001b[0m \u001b[1;33m=\u001b[0m \u001b[1;33m[\u001b[0m\u001b[0mint\u001b[0m\u001b[1;33m(\u001b[0m\u001b[0mi\u001b[0m\u001b[1;33m)\u001b[0m \u001b[1;32mfor\u001b[0m \u001b[0mi\u001b[0m \u001b[1;32min\u001b[0m \u001b[0mdata\u001b[0m\u001b[1;33m]\u001b[0m\u001b[1;33m\u001b[0m\u001b[1;33m\u001b[0m\u001b[0m\n\u001b[1;32m---> 16\u001b[1;33m \u001b[0mprint\u001b[0m\u001b[1;33m(\u001b[0m\u001b[0msum\u001b[0m\u001b[1;33m(\u001b[0m\u001b[0mintData\u001b[0m\u001b[1;33m)\u001b[0m\u001b[1;33m)\u001b[0m\u001b[1;33m\u001b[0m\u001b[1;33m\u001b[0m\u001b[0m\n\u001b[0m",
      "\u001b[1;31mTypeError\u001b[0m: 'int' object is not callable"
     ]
    }
   ],
   "source": [
    "data = input(\"키보드로 정수값을 입력하세요\").split()\n",
    "sum = 0\n",
    "\n",
    "#1.\n",
    "#for i in data:\n",
    "#    sum += int(i)\n",
    "#print(\"총합 : \",sum)\n",
    "\n",
    "#2. range() 함수 사용\n",
    "#for i in range(len(data)):\n",
    "#    sum += int(data[i])\n",
    "#print(\"총합 : \",sum)\n",
    "\n",
    "#3.\n",
    "intData = [int(i) for i in data]\n",
    "print(sum(intData))"
   ]
  },
  {
   "cell_type": "markdown",
   "metadata": {},
   "source": [
    "### 문제 2.\n",
    "    numList = [5,10,11,3,2,100]으로 주어집니다.\n",
    "    \n",
    "    numList 리스트 자료형을 이용해서 아래와 같은 결과가 출력되도록 코드를 작성하세요\n",
    "    [\"홀\",\"짝\",\"홀\",\"홀\",\"짝\",\"짝\"]\n"
   ]
  },
  {
   "cell_type": "code",
   "execution_count": 19,
   "metadata": {},
   "outputs": [
    {
     "name": "stdout",
     "output_type": "stream",
     "text": [
      "['홀', '짝', '홀', '홀', '짝', '짝']\n"
     ]
    }
   ],
   "source": [
    "numList = [5,10,11,3,2,100]\n",
    "strList = []\n",
    "choice = [\"홀\",\"짝\"]\n",
    "\n",
    "for i in numList:\n",
    "    if i % 2 == 0:\n",
    "        strList.append(choice[1])\n",
    "    else:\n",
    "        strList.append(choice[0])\n",
    "print(strList)"
   ]
  },
  {
   "cell_type": "code",
   "execution_count": 20,
   "metadata": {},
   "outputs": [
    {
     "name": "stdout",
     "output_type": "stream",
     "text": [
      "['홀', '짝', '홀', '홀', '짝', '짝']\n"
     ]
    }
   ],
   "source": [
    "#2.\n",
    "numList = [5,10,11,3,2,100]\n",
    "\n",
    "resultList = [\"짝\" if i % 2 == 0 else \"홀\" for i in numList]\n",
    "print(resultList)"
   ]
  },
  {
   "cell_type": "markdown",
   "metadata": {},
   "source": [
    "### 이차원 배열에 for 사용하기, 이중 for문"
   ]
  },
  {
   "cell_type": "code",
   "execution_count": 23,
   "metadata": {},
   "outputs": [
    {
     "name": "stdout",
     "output_type": "stream",
     "text": [
      "0 1 2 3 4 "
     ]
    }
   ],
   "source": [
    "for i in range(5): # range(0,5) 동일\n",
    "    print(i,end=\" \")"
   ]
  },
  {
   "cell_type": "code",
   "execution_count": 25,
   "metadata": {},
   "outputs": [
    {
     "name": "stdout",
     "output_type": "stream",
     "text": [
      "3\n",
      "[[1, 2, 3], [4, 5, 6], [7, 8, 9, 10]]\n"
     ]
    }
   ],
   "source": [
    "matrix = [[1,2,3],[4,5,6],[7,8,9,10]]\n",
    "print(len(matrix))\n",
    "print(matrix)"
   ]
  },
  {
   "cell_type": "markdown",
   "metadata": {},
   "source": [
    "### 문제 3.\n",
    "    [1,2,3]\n",
    "    [4,5,6]\n",
    "    [7,8,9,10]\n",
    "    위와 같은 패턴으로 출력되도록 for문을 사용한다."
   ]
  },
  {
   "cell_type": "code",
   "execution_count": 33,
   "metadata": {},
   "outputs": [
    {
     "name": "stdout",
     "output_type": "stream",
     "text": [
      "[1, 2, 3]\n",
      "[4, 5, 6]\n",
      "[7, 8, 9, 10]\n",
      "******************************\n",
      "[1, 2, 3]\n",
      "[4, 5, 6]\n",
      "[7, 8, 9, 10]\n",
      "******************************\n",
      "1 2 3 \n",
      "4 5 6 \n",
      "7 8 9 10 \n",
      "******************************\n",
      "1 2 3 \n",
      "4 5 6 \n",
      "7 8 9 10 \n"
     ]
    }
   ],
   "source": [
    "#1. for문 사용\n",
    "for i in matrix:\n",
    "    print(i)\n",
    "print(\"*\"*30)\n",
    "\n",
    "#2. range() 사용\n",
    "for i in range(len(matrix)):\n",
    "    print(matrix[i])\n",
    "print(\"*\"*30)\n",
    "\n",
    "#3. 이중 for문 사용\n",
    "for i in range(len(matrix)):\n",
    "    for j in matrix[i]:\n",
    "        print(j,end=\" \")\n",
    "    print()\n",
    "print(\"*\"*30)\n",
    "\n",
    "#4.\n",
    "for row in matrix:\n",
    "    for col in row:\n",
    "        print(col, end=\" \")\n",
    "    print()"
   ]
  },
  {
   "cell_type": "markdown",
   "metadata": {},
   "source": [
    "### while문\n",
    "    1부터 100까지의 합을 구하자\n",
    "    조건을 2가지 방식으로 지정\n",
    "    1) while i < 101:\n",
    "    2) while True:"
   ]
  },
  {
   "cell_type": "code",
   "execution_count": 37,
   "metadata": {},
   "outputs": [
    {
     "name": "stdout",
     "output_type": "stream",
     "text": [
      "100까지의 총합은 :  5050\n",
      "******************************\n",
      "100까지의 총합은 :  5050\n"
     ]
    }
   ],
   "source": [
    "i = 1\n",
    "total1 = 0\n",
    "\n",
    "while i < 101:\n",
    "    total1 += i\n",
    "    i += 1\n",
    "print(\"100까지의 총합은 : \",total1)\n",
    "\n",
    "print(\"*\"*30)\n",
    "\n",
    "j = 1\n",
    "total2 = 0\n",
    "while True:\n",
    "    if j == 101:\n",
    "        break\n",
    "    total2 += j\n",
    "    j += 1\n",
    "print(\"100까지의 총합은 : \",total2)"
   ]
  },
  {
   "cell_type": "markdown",
   "metadata": {},
   "source": [
    "### break, continue, pass 키워드"
   ]
  },
  {
   "cell_type": "code",
   "execution_count": 40,
   "metadata": {},
   "outputs": [
    {
     "name": "stdout",
     "output_type": "stream",
     "text": [
      "0\n",
      "1\n",
      "continue...loop\n",
      "3\n",
      "4\n",
      "5\n",
      "breaking...loop\n"
     ]
    }
   ],
   "source": [
    "for i in range(10):\n",
    "    if i == 2:\n",
    "        print(\"continue...loop\")\n",
    "        continue\n",
    "    if i== 6:\n",
    "        print(\"breaking...loop\")\n",
    "        break\n",
    "    if i == 4:\n",
    "        pass\n",
    "    print(i)"
   ]
  },
  {
   "cell_type": "code",
   "execution_count": 41,
   "metadata": {},
   "outputs": [
    {
     "data": {
      "text/plain": [
       "7"
      ]
     },
     "execution_count": 41,
     "metadata": {},
     "output_type": "execute_result"
    }
   ],
   "source": [
    "import random\n",
    "com = random.randrange(1,101) # 1~100까지의 숫자 중에서 임의의 정수 하나를 리턴\n",
    "com"
   ]
  },
  {
   "cell_type": "code",
   "execution_count": null,
   "metadata": {},
   "outputs": [],
   "source": []
  }
 ],
 "metadata": {
  "kernelspec": {
   "display_name": "Python 3",
   "language": "python",
   "name": "python3"
  },
  "language_info": {
   "codemirror_mode": {
    "name": "ipython",
    "version": 3
   },
   "file_extension": ".py",
   "mimetype": "text/x-python",
   "name": "python",
   "nbconvert_exporter": "python",
   "pygments_lexer": "ipython3",
   "version": "3.8.5"
  }
 },
 "nbformat": 4,
 "nbformat_minor": 4
}
