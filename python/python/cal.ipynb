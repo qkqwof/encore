{
 "cells": [
  {
   "cell_type": "markdown",
   "metadata": {},
   "source": [
    "### 모듈 만들기\n",
    "    모듈이란?\n",
    "    변수의 기능을 가지고 있는 하나의 프레임 단위\n",
    "    모듈을 가지고 있는 더 큰 프레임"
   ]
  },
  {
   "cell_type": "code",
   "execution_count": null,
   "metadata": {},
   "outputs": [],
   "source": [
    "'''\n",
    "2개의 함수와 하나의 전역변수를 가지는 모듈을 만들었다.\n",
    "모듈은 확장자가 py로 끝나야 import 할 수 있다.\n",
    "\n",
    "1) 쥬피터노트북 file<Download as < Python...해서 직접 추가\n",
    "2) %%writefile cal.py 매직명령어 사용\n",
    "   참고로 %% 매직명령어는 코드 가장 윗부분에 와야 한다.\n",
    "'''"
   ]
  },
  {
   "cell_type": "code",
   "execution_count": 3,
   "metadata": {},
   "outputs": [
    {
     "name": "stdout",
     "output_type": "stream",
     "text": [
      "Writing cal.py\n"
     ]
    }
   ],
   "source": [
    "%%writefile cal.py\n",
    "\n",
    "def plus(a,b):\n",
    "    return a+b\n",
    "\n",
    "def minus(a,b):\n",
    "    return a-b\n",
    "\n",
    "modulename = \"CUSTOM_MODULE\""
   ]
  }
 ],
 "metadata": {
  "kernelspec": {
   "display_name": "Python 3",
   "language": "python",
   "name": "python3"
  },
  "language_info": {
   "codemirror_mode": {
    "name": "ipython",
    "version": 3
   },
   "file_extension": ".py",
   "mimetype": "text/x-python",
   "name": "python",
   "nbconvert_exporter": "python",
   "pygments_lexer": "ipython3",
   "version": "3.8.5"
  }
 },
 "nbformat": 4,
 "nbformat_minor": 4
}
