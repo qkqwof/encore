{
 "cells": [
  {
   "cell_type": "markdown",
   "metadata": {},
   "source": [
    "### Tuple - 데이터 조작이 불가능 Immutable\n",
    "    튜플은 몇가지 점을 제외하고는 거의 리스트와 비슷\n",
    "    다른 점은\n",
    "    - 리스트는 []값을 둘러싸지만 튜플은 ()를 사용한다.\n",
    "    - 리스트는 값을 추가, 삭제, 수정...즉 변경이 가능하지만 \n",
    "      튜플은 한번 생성된 값을 수정할 수 없다.\n",
    "    - 만약에 튜플로 만들어진 값을 조작하고 싶다면\n",
    "      리스트로 형을 변환시킨 다음에 변경할 수 있다. list(t)"
   ]
  },
  {
   "cell_type": "markdown",
   "metadata": {},
   "source": [
    "#### 1.튜플 생성하기"
   ]
  },
  {
   "cell_type": "code",
   "execution_count": 2,
   "metadata": {},
   "outputs": [
    {
     "name": "stdout",
     "output_type": "stream",
     "text": [
      "<class 'int'>\n",
      "<class 'tuple'>\n"
     ]
    }
   ],
   "source": [
    "t1 = (1,2,3,4)\n",
    "t2 = (4,5,6)\n",
    "t1\n",
    "t2\n",
    "\n",
    "#중요\n",
    "t3 = (1) # 값이 한개일 때...\n",
    "t4 = (1,)\n",
    "print(type(t3))\n",
    "print(type(t4))"
   ]
  },
  {
   "cell_type": "markdown",
   "metadata": {},
   "source": [
    "#### 튜플을 사용하는 경우\n",
    "    프로그램이 실행되는 동안 그 값이 할상 변경되지 않기를 바란다거나\n",
    "    값이 바뀔까봐 걱정하고 싶지 않다면 무조건 튜플을 사용\n",
    "    이와는 반대로 수시로 그 값을 변경시켜야 하는 경우라면 리스트를 필히 사용"
   ]
  },
  {
   "cell_type": "code",
   "execution_count": 4,
   "metadata": {},
   "outputs": [
    {
     "name": "stdout",
     "output_type": "stream",
     "text": [
      "<class 'int'>\n",
      "<class 'tuple'>\n"
     ]
    }
   ],
   "source": [
    "a,b,c = 3,4,5\n",
    "print(type(a))\n",
    "\n",
    "a = 3,4,5 # () 생략됨\n",
    "print(type(a))"
   ]
  },
  {
   "cell_type": "code",
   "execution_count": 5,
   "metadata": {},
   "outputs": [
    {
     "data": {
      "text/plain": [
       "[1, 2, 3, 4, 5, 6, 7, 8, 9, 0, 100]"
      ]
     },
     "execution_count": 5,
     "metadata": {},
     "output_type": "execute_result"
    }
   ],
   "source": [
    "t = (1,2,3,4,5,6,7,8,9,0,100)\n",
    "\n",
    "tList = list(t)\n",
    "tList"
   ]
  },
  {
   "cell_type": "code",
   "execution_count": 8,
   "metadata": {},
   "outputs": [
    {
     "name": "stdout",
     "output_type": "stream",
     "text": [
      "11\n",
      "11\n",
      "튜플 128\n",
      "리스트 144\n"
     ]
    }
   ],
   "source": [
    "'''\n",
    "len() 컨테이너에 포함된 데이터 항목의 갯수를 리턴\n",
    "컨테이너란 튜플, 딕셔너리, 리스트, 셋\n",
    "\n",
    "값들의 수정이 불필요한 경우라면, 리스트보다는 튜플을 이용하는 것이 효율적\n",
    "왜? 메모리 사용이 훨씬 적다.\n",
    "sys.getsizeof() - 특정 개체의 메모리 사이즈를 바이트 단위로 반환\n",
    "직접 메모리 용량을 손쉽게 확인 가능\n",
    "'''\n",
    "\n",
    "import sys\n",
    "print(len(t))\n",
    "print(len(tList))\n",
    "print(\"튜플\",sys.getsizeof(t)) # 메모리 사이즈를 바이트 단위로 반환시키는 함수....\n",
    "print(\"리스트\",sys.getsizeof(tList)) # 비교하면 튜플의 메모리가 더 가벼움..."
   ]
  },
  {
   "cell_type": "markdown",
   "metadata": {},
   "source": [
    "#### 튜플값 삭제 및 변경"
   ]
  },
  {
   "cell_type": "code",
   "execution_count": 9,
   "metadata": {},
   "outputs": [
    {
     "ename": "TypeError",
     "evalue": "'tuple' object does not support item assignment",
     "output_type": "error",
     "traceback": [
      "\u001b[1;31m---------------------------------------------------------------------------\u001b[0m",
      "\u001b[1;31mTypeError\u001b[0m                                 Traceback (most recent call last)",
      "\u001b[1;32m<ipython-input-9-77ab2c2365eb>\u001b[0m in \u001b[0;36m<module>\u001b[1;34m\u001b[0m\n\u001b[1;32m----> 1\u001b[1;33m \u001b[0mt\u001b[0m\u001b[1;33m[\u001b[0m\u001b[1;36m3\u001b[0m\u001b[1;33m]\u001b[0m \u001b[1;33m=\u001b[0m \u001b[1;36m77\u001b[0m\u001b[1;33m\u001b[0m\u001b[1;33m\u001b[0m\u001b[0m\n\u001b[0m\u001b[0;32m      2\u001b[0m \u001b[1;31m# t 에러난다...\u001b[0m\u001b[1;33m\u001b[0m\u001b[1;33m\u001b[0m\u001b[1;33m\u001b[0m\u001b[0m\n",
      "\u001b[1;31mTypeError\u001b[0m: 'tuple' object does not support item assignment"
     ]
    }
   ],
   "source": [
    "t[3] = 77\n",
    "# t 에러난다..."
   ]
  },
  {
   "cell_type": "markdown",
   "metadata": {},
   "source": [
    "### 딕셔너리\n",
    "#### 1. 생성하기"
   ]
  },
  {
   "cell_type": "code",
   "execution_count": 10,
   "metadata": {},
   "outputs": [
    {
     "data": {
      "text/plain": [
       "{'name': 'DRAM', 'capa': '32g', 'maker': 'SK', 'price': 320000}"
      ]
     },
     "execution_count": 10,
     "metadata": {},
     "output_type": "execute_result"
    }
   ],
   "source": [
    "pro_Dic = {\"name\":\"DRAM\",\"capa\":\"32g\",\"maker\":\"SK\",\"price\":320000}\n",
    "pro_Dic"
   ]
  },
  {
   "cell_type": "markdown",
   "metadata": {},
   "source": [
    "#### 2. 데이터 조회하기\n",
    "    1) [key]     2)get(key)"
   ]
  },
  {
   "cell_type": "code",
   "execution_count": 13,
   "metadata": {},
   "outputs": [
    {
     "name": "stdout",
     "output_type": "stream",
     "text": [
      "DRAM\n",
      "DRAM\n"
     ]
    }
   ],
   "source": [
    "# 딕셔너리 데이터를 조회할 때는 리스트, 튜플과 달리 인덱싱, 슬라이싱 기법 적용 안됨\n",
    "# 딕셔너리는 단 한가지 방법으로 조회 가능...key를 통해서 value를 찾는다.\n",
    "print(pro_Dic['name'])\n",
    "print(pro_Dic.get(\"name\"))"
   ]
  },
  {
   "cell_type": "markdown",
   "metadata": {},
   "source": [
    "#### 3. 데이터 수정하기"
   ]
  },
  {
   "cell_type": "code",
   "execution_count": 14,
   "metadata": {},
   "outputs": [
    {
     "data": {
      "text/plain": [
       "{'name': 'DRAM', 'capa': '32g', 'maker': 'SK', 'price': 230000}"
      ]
     },
     "execution_count": 14,
     "metadata": {},
     "output_type": "execute_result"
    }
   ],
   "source": [
    "pro_Dic['price'] = 230000\n",
    "pro_Dic"
   ]
  },
  {
   "cell_type": "code",
   "execution_count": 16,
   "metadata": {},
   "outputs": [
    {
     "data": {
      "text/plain": [
       "{'name': 'DRAM',\n",
       " 'capa': '32g',\n",
       " 'maker': 'SK',\n",
       " 'price': 230000,\n",
       " 'loc': '이천',\n",
       " 'pop': 33}"
      ]
     },
     "execution_count": 16,
     "metadata": {},
     "output_type": "execute_result"
    }
   ],
   "source": [
    "addInfo = {'loc':\"이천\",\"pop\":33}\n",
    "pro_Dic.update(addInfo)\n",
    "pro_Dic"
   ]
  },
  {
   "cell_type": "markdown",
   "metadata": {},
   "source": [
    "#### 4. 데이터 삭제하기\n",
    "    del pro_Dic[key]"
   ]
  },
  {
   "cell_type": "code",
   "execution_count": 17,
   "metadata": {},
   "outputs": [
    {
     "data": {
      "text/plain": [
       "{'name': 'DRAM', 'capa': '32g', 'maker': 'SK', 'price': 230000, 'loc': '이천'}"
      ]
     },
     "execution_count": 17,
     "metadata": {},
     "output_type": "execute_result"
    }
   ],
   "source": [
    "del pro_Dic[\"pop\"]\n",
    "pro_Dic\n",
    "\n",
    "# del pro_Dic[3] 인덱스 접근이 안된다."
   ]
  },
  {
   "cell_type": "markdown",
   "metadata": {},
   "source": [
    "### 딕셔너리를 다룰 떄 주의할 사항\n",
    "    1) 키값은 중복될 수 없다. 만약에 키가 중복되면 마지막 값으로 덮어씌움\n",
    "    2) 키값으로는 리스트 사용 못함 -- 튜플은 가능\n",
    "    3) key - value -- 없는 key를 입력할 때 서로 다른 결과"
   ]
  },
  {
   "cell_type": "code",
   "execution_count": 19,
   "metadata": {},
   "outputs": [
    {
     "data": {
      "text/plain": [
       "{(1, 2, 3): 'hello'}"
      ]
     },
     "execution_count": 19,
     "metadata": {},
     "output_type": "execute_result"
    }
   ],
   "source": [
    "#a = {[1,2,3]:\"hi\"}\n",
    "#a\n",
    "\n",
    "b = {(1,2,3):\"hello\"}\n",
    "b"
   ]
  },
  {
   "cell_type": "markdown",
   "metadata": {},
   "source": [
    "#### 딕셔너리 함수 사용하기\n",
    "    keys() | values() | items()"
   ]
  },
  {
   "cell_type": "code",
   "execution_count": 21,
   "metadata": {},
   "outputs": [
    {
     "data": {
      "text/plain": [
       "{'name': 'Peter', 'age': 34, 'address': 'Texas', 'phone': '1201234'}"
      ]
     },
     "execution_count": 21,
     "metadata": {},
     "output_type": "execute_result"
    }
   ],
   "source": [
    "dic = {'name':\"Peter\",\"age\":34,\"address\":\"Texas\",\"phone\":'1201234'}\n",
    "dic"
   ]
  },
  {
   "cell_type": "code",
   "execution_count": 29,
   "metadata": {},
   "outputs": [
    {
     "name": "stdout",
     "output_type": "stream",
     "text": [
      "dict_keys(['name', 'age', 'address', 'phone'])\n",
      "<class 'dict_keys'>\n",
      "['name', 'age', 'address', 'phone']\n",
      "dict_values(['Peter', 34, 'Texas', '1201234'])\n",
      "<class 'dict_values'>\n",
      "dict_items([('name', 'Peter'), ('age', 34), ('address', 'Texas'), ('phone', '1201234')])\n",
      "<class 'dict_items'>\n"
     ]
    }
   ],
   "source": [
    "# dic의 키값만 뽑아서 출력\n",
    "dic_keys = dic.keys() \n",
    "print(dic_keys) # dic_keys 객체 리턴\n",
    "print(type(dic_keys))\n",
    "\n",
    "# 키들의 리스트를 리스트로 변환시켜서 출력\n",
    "print(list(dic_keys))\n",
    "'''\n",
    "dic_keys 객체는 리스트를 사용하는 것과 별반 다르지 않지만\n",
    "리스트 고유의 기능...append, insert, pop, remove...sort 함수를 적용할 수 없다.\n",
    "필요하면 list로 변환 시켜놓고 함수 적용해야 한다.\n",
    "'''\n",
    "\n",
    "#값들의 목록을 받아보자\n",
    "dic_values = dic.values()\n",
    "print(dic_values)\n",
    "print(type(dic_values)) #dict_values 객체로 반환\n",
    "\n",
    "# key,value 모두 얻기\n",
    "dic_items = dic.items()\n",
    "print(dic_items)\n",
    "print(type(dic_items))"
   ]
  },
  {
   "cell_type": "code",
   "execution_count": 34,
   "metadata": {},
   "outputs": [
    {
     "name": "stdout",
     "output_type": "stream",
     "text": [
      "None\n",
      "False\n",
      "True\n"
     ]
    }
   ],
   "source": [
    "dic\n",
    "\n",
    "name1 = dic.get(\"aaa\")\n",
    "print(name1) # 존재하지 않는 키를 입력하면 None 리턴\n",
    "\n",
    "#name2 = dic[\"bbb\"]\n",
    "#print(name2) # 존재하지 않는 키를 입력하면 에러 발생\n",
    "\n",
    "print('bbb' in dic)\n",
    "print('name' in dic)"
   ]
  },
  {
   "cell_type": "code",
   "execution_count": 38,
   "metadata": {},
   "outputs": [
    {
     "name": "stdout",
     "output_type": "stream",
     "text": [
      "name\n",
      "age\n",
      "address\n",
      "phone\n",
      "**************************************************\n",
      "Peter\n",
      "34\n",
      "Texas\n",
      "1201234\n"
     ]
    }
   ],
   "source": [
    "for i in dic.keys():\n",
    "    print(i)\n",
    "print(\"*\"*50)\n",
    "for v in dic.values():\n",
    "    print(v)"
   ]
  },
  {
   "cell_type": "markdown",
   "metadata": {},
   "source": [
    "### SET\n",
    "    \n",
    "    중복을 허용하지 않는다.\n",
    "    순서가 없다.\n",
    "    \n",
    "    순서가 없기 때문에 인덱싱을 통해서 자료를 조회할 수 없다.\n",
    "    인덱싱을 사용하려면 리스트, 튜플 자료형으로 변환한 후 사용할 수 있다.\n",
    "    list(), tuple() 변환함수 사용\n",
    "    \n",
    "    중복을 허용하지 않는 SET 특징을 자료형의 중복을 제거하기 위한 필터 역할로 종종 사용된다.\n",
    "    [1,1,2.22,3,4,5,5,5,6,6]\n",
    "    set([1,1,2.22,3,4,5,5,5,6,6])"
   ]
  },
  {
   "cell_type": "code",
   "execution_count": 2,
   "metadata": {},
   "outputs": [
    {
     "data": {
      "text/plain": [
       "{'a', 'b', 'c'}"
      ]
     },
     "execution_count": 2,
     "metadata": {},
     "output_type": "execute_result"
    }
   ],
   "source": [
    "my_set = {'a','b','c','a','b'}\n",
    "my_set"
   ]
  },
  {
   "cell_type": "code",
   "execution_count": 6,
   "metadata": {},
   "outputs": [
    {
     "name": "stdout",
     "output_type": "stream",
     "text": [
      "[1, 2, 2, 3, 4, 5, 5, 6, 78, 2, 1]\n",
      "{1, 2, 3, 4, 5, 6, 78}\n",
      "[1, 2, 3, 4, 5, 6, 78]\n"
     ]
    }
   ],
   "source": [
    "# 중복을 벗겨내는 필터링 역할\n",
    "a = [1,2,2,3,4,5,5,6,78,2,1]\n",
    "print(a)\n",
    "\n",
    "set_a = set(a)\n",
    "print(set_a)\n",
    "\n",
    "list_a=list(set_a)\n",
    "print(list_a)"
   ]
  },
  {
   "cell_type": "code",
   "execution_count": 10,
   "metadata": {},
   "outputs": [
    {
     "name": "stdout",
     "output_type": "stream",
     "text": [
      "None\n",
      "[78, 6, 5, 4, 3, 2, 1]\n"
     ]
    }
   ],
   "source": [
    "# 문제 1. 위에서 출력된 결과 list_a를 내림차순으로 정렬해보자\n",
    "# sort 리턴타입이 None이다.\n",
    "\n",
    "list_sort = list_a.sort(reverse=True)\n",
    "print(list_sort)\n",
    "\n",
    "print(sorted(list_a, reverse=True))"
   ]
  },
  {
   "cell_type": "markdown",
   "metadata": {},
   "source": [
    "#### SET 관련 함수\n",
    "    add() | update() | remove()"
   ]
  },
  {
   "cell_type": "code",
   "execution_count": 13,
   "metadata": {},
   "outputs": [
    {
     "data": {
      "text/plain": [
       "{1, 2, 3, 5}"
      ]
     },
     "execution_count": 13,
     "metadata": {},
     "output_type": "execute_result"
    }
   ],
   "source": [
    "#1. 하나의 값 추가하기...add()\n",
    "s1 = set([1,2,3])\n",
    "s1.add(5)\n",
    "s1"
   ]
  },
  {
   "cell_type": "code",
   "execution_count": 14,
   "metadata": {},
   "outputs": [
    {
     "data": {
      "text/plain": [
       "{1, 2, 3, 4, 5, 6, 7}"
      ]
     },
     "execution_count": 14,
     "metadata": {},
     "output_type": "execute_result"
    }
   ],
   "source": [
    "#2. 값 여러개 추가하기...update\n",
    "s2 = {4,5,6,7}\n",
    "s1.update(s2)\n",
    "s1"
   ]
  },
  {
   "cell_type": "code",
   "execution_count": 15,
   "metadata": {},
   "outputs": [
    {
     "ename": "TypeError",
     "evalue": "'int' object is not iterable",
     "output_type": "error",
     "traceback": [
      "\u001b[1;31m---------------------------------------------------------------------------\u001b[0m",
      "\u001b[1;31mTypeError\u001b[0m                                 Traceback (most recent call last)",
      "\u001b[1;32m<ipython-input-15-3fc392749036>\u001b[0m in \u001b[0;36m<module>\u001b[1;34m\u001b[0m\n\u001b[1;32m----> 1\u001b[1;33m \u001b[0ms1\u001b[0m\u001b[1;33m.\u001b[0m\u001b[0mupdate\u001b[0m\u001b[1;33m(\u001b[0m\u001b[1;36m8\u001b[0m\u001b[1;33m)\u001b[0m \u001b[1;31m# update()로 값을 하나 넣으면 에러...add() 사용\u001b[0m\u001b[1;33m\u001b[0m\u001b[1;33m\u001b[0m\u001b[0m\n\u001b[0m\u001b[0;32m      2\u001b[0m \u001b[0ms1\u001b[0m\u001b[1;33m\u001b[0m\u001b[1;33m\u001b[0m\u001b[0m\n",
      "\u001b[1;31mTypeError\u001b[0m: 'int' object is not iterable"
     ]
    }
   ],
   "source": [
    "s1.update(8) # update()로 값을 하나 넣으면 에러...add() 사용\n",
    "s1"
   ]
  },
  {
   "cell_type": "code",
   "execution_count": 16,
   "metadata": {},
   "outputs": [
    {
     "data": {
      "text/plain": [
       "{2, 3, 4, 5, 6, 7}"
      ]
     },
     "execution_count": 16,
     "metadata": {},
     "output_type": "execute_result"
    }
   ],
   "source": [
    "#3. 값 제거하기...remove()\n",
    "\n",
    "s1.remove(1)\n",
    "s1"
   ]
  },
  {
   "cell_type": "code",
   "execution_count": null,
   "metadata": {},
   "outputs": [],
   "source": []
  }
 ],
 "metadata": {
  "kernelspec": {
   "display_name": "Python 3",
   "language": "python",
   "name": "python3"
  },
  "language_info": {
   "codemirror_mode": {
    "name": "ipython",
    "version": 3
   },
   "file_extension": ".py",
   "mimetype": "text/x-python",
   "name": "python",
   "nbconvert_exporter": "python",
   "pygments_lexer": "ipython3",
   "version": "3.8.5"
  }
 },
 "nbformat": 4,
 "nbformat_minor": 4
}
