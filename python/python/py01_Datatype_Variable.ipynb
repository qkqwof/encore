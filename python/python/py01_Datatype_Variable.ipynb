{
 "cells": [
  {
   "cell_type": "markdown",
   "metadata": {},
   "source": [
    "## 변수와 데이터 타입\n",
    "        파이썬에서의 데이터 타입들\n",
    "        \n",
    "        int - 정수\n",
    "        float - 실수\n",
    "        bool - False, True\n",
    "        str - 문자열\n",
    "        list - 리스트, 순서가 있는 값들의 집합 [], 값은 변경 가능\n",
    "        tuple - 튜플, 순서가 있는 값들의 집합 (), 값은 변경 불가\n",
    "        set - 순서없고 중복 안되는 값들의 집합 {}\n",
    "        dic - 키와 값이 쌍으로 저장되는 값들의 집합 {\"key\":value}"
   ]
  },
  {
   "cell_type": "code",
   "execution_count": 4,
   "metadata": {},
   "outputs": [
    {
     "name": "stdout",
     "output_type": "stream",
     "text": [
      "3\n",
      "3.5\n",
      "Hello\n",
      "Hello\n",
      "**\n",
      "******************************\n",
      "<class 'int'>\n",
      "<class 'float'>\n",
      "<class 'str'>\n",
      "<class 'str'>\n"
     ]
    }
   ],
   "source": [
    "a = 3\n",
    "b = 3.5\n",
    "c = \"Hello\"\n",
    "d = 'Hello'\n",
    "\n",
    "print(a)\n",
    "print(b)\n",
    "print(c)\n",
    "print(d)\n",
    "\n",
    "print('*'+'*') # 문자열 + 문자열 : 문자열이 더해진다.\n",
    "print('*' * 30) # 연산도 가능하다.\n",
    "\n",
    "# 값들의 타입을 출력: type() 함수를 이용\n",
    "print(type(a))\n",
    "print(type(b))\n",
    "print(type(c))\n",
    "print(type(d))"
   ]
  },
  {
   "cell_type": "code",
   "execution_count": 6,
   "metadata": {},
   "outputs": [
    {
     "name": "stdout",
     "output_type": "stream",
     "text": [
      "True\n",
      "False\n"
     ]
    }
   ],
   "source": [
    "e = 3\n",
    "f = 3.0\n",
    "print(e == f)\n",
    "\n",
    "print(type(e) == type(f))"
   ]
  },
  {
   "cell_type": "markdown",
   "metadata": {},
   "source": [
    "## 실행시 값을 입력받는 함수 input()"
   ]
  },
  {
   "cell_type": "code",
   "execution_count": 9,
   "metadata": {},
   "outputs": [
    {
     "name": "stdout",
     "output_type": "stream",
     "text": [
      "값입력12\n",
      "입력된 값:  12\n",
      "<class 'str'>\n",
      "<class 'int'>\n"
     ]
    }
   ],
   "source": [
    "# input()로 입력된 값을 타입이 무조건 str이다.\n",
    "data = input(\"값입력\")\n",
    "print(\"입력된 값: \",data)\n",
    "print(type(data))\n",
    "\n",
    "newdata = int(data)\n",
    "print(type(newdata))"
   ]
  },
  {
   "cell_type": "markdown",
   "metadata": {},
   "source": [
    "### 연산자와 포맷팅"
   ]
  },
  {
   "cell_type": "code",
   "execution_count": 14,
   "metadata": {},
   "outputs": [
    {
     "name": "stdout",
     "output_type": "stream",
     "text": [
      "1.6666666666666667\n",
      "1\n",
      "2\n"
     ]
    },
    {
     "data": {
      "text/plain": [
       "['__abs__',\n",
       " '__add__',\n",
       " '__and__',\n",
       " '__bool__',\n",
       " '__ceil__',\n",
       " '__class__',\n",
       " '__delattr__',\n",
       " '__dir__',\n",
       " '__divmod__',\n",
       " '__doc__',\n",
       " '__eq__',\n",
       " '__float__',\n",
       " '__floor__',\n",
       " '__floordiv__',\n",
       " '__format__',\n",
       " '__ge__',\n",
       " '__getattribute__',\n",
       " '__getnewargs__',\n",
       " '__gt__',\n",
       " '__hash__',\n",
       " '__index__',\n",
       " '__init__',\n",
       " '__init_subclass__',\n",
       " '__int__',\n",
       " '__invert__',\n",
       " '__le__',\n",
       " '__lshift__',\n",
       " '__lt__',\n",
       " '__mod__',\n",
       " '__mul__',\n",
       " '__ne__',\n",
       " '__neg__',\n",
       " '__new__',\n",
       " '__or__',\n",
       " '__pos__',\n",
       " '__pow__',\n",
       " '__radd__',\n",
       " '__rand__',\n",
       " '__rdivmod__',\n",
       " '__reduce__',\n",
       " '__reduce_ex__',\n",
       " '__repr__',\n",
       " '__rfloordiv__',\n",
       " '__rlshift__',\n",
       " '__rmod__',\n",
       " '__rmul__',\n",
       " '__ror__',\n",
       " '__round__',\n",
       " '__rpow__',\n",
       " '__rrshift__',\n",
       " '__rshift__',\n",
       " '__rsub__',\n",
       " '__rtruediv__',\n",
       " '__rxor__',\n",
       " '__setattr__',\n",
       " '__sizeof__',\n",
       " '__str__',\n",
       " '__sub__',\n",
       " '__subclasshook__',\n",
       " '__truediv__',\n",
       " '__trunc__',\n",
       " '__xor__',\n",
       " 'as_integer_ratio',\n",
       " 'bit_length',\n",
       " 'conjugate',\n",
       " 'denominator',\n",
       " 'from_bytes',\n",
       " 'imag',\n",
       " 'numerator',\n",
       " 'real',\n",
       " 'to_bytes']"
      ]
     },
     "execution_count": 14,
     "metadata": {},
     "output_type": "execute_result"
    }
   ],
   "source": [
    "num1 = 5\n",
    "num2 = 3\n",
    "print(num1/num2) # float로 반환\n",
    "print(num1//num2) # 나눈 몫을 구함...나머지는 버린다.\n",
    "remain = num1 % num2\n",
    "print(remain)\n",
    "\n",
    "'''\n",
    "설명이 긴 주석처리...\n",
    "파이썬의 모든 변수는 객체로 취급된다.\n",
    "그렇기 때문에 당연히 메소드가 있다.\n",
    "'''\n",
    "dir(num1)"
   ]
  },
  {
   "cell_type": "code",
   "execution_count": 17,
   "metadata": {},
   "outputs": [
    {
     "data": {
      "text/plain": [
       "111"
      ]
     },
     "execution_count": 17,
     "metadata": {},
     "output_type": "execute_result"
    }
   ],
   "source": [
    "int(True)\n",
    "int(False)\n",
    "int(e)\n",
    "float(a)\n",
    "round(44.78)\n",
    "int('111')"
   ]
  },
  {
   "cell_type": "code",
   "execution_count": 18,
   "metadata": {},
   "outputs": [
    {
     "name": "stdout",
     "output_type": "stream",
     "text": [
      "James 의 나이는 40 세 입니다.\n"
     ]
    }
   ],
   "source": [
    "name = \"James\"\n",
    "age = 40\n",
    "print(name,\"의 나이는\",age,\"세 입니다.\")"
   ]
  },
  {
   "cell_type": "markdown",
   "metadata": {},
   "source": [
    "#### 문제1\n",
    "    키보드로 초를 입력 받아서 다음과 같이 출력합니다.\n",
    "    \n",
    "    입력받는 초 -------- ex) 3700\n",
    "    출력양식 --------- 3700초는 1시간 1분 40초 입니다.\n",
    "    \n",
    "    사용되는 연산자는? //, %"
   ]
  },
  {
   "cell_type": "code",
   "execution_count": 37,
   "metadata": {},
   "outputs": [
    {
     "name": "stdout",
     "output_type": "stream",
     "text": [
      "3700\n",
      "3700초는 1 시간 1분 40초 입니다\n"
     ]
    }
   ],
   "source": [
    "data = int(input())\n",
    "hour = data//3600\n",
    "minute = data %3600 // 60\n",
    "sec = data % 60\n",
    "# print(data,\"초는\",data//3600,\"시간\",data % 3600 //60,\"분\",data%60,\"초 입니다.\")\n",
    "print(\"%d초는 %d 시간 %d분 %d초 입니다\" %(data, hour, minute, sec))"
   ]
  },
  {
   "cell_type": "code",
   "execution_count": 22,
   "metadata": {},
   "outputs": [
    {
     "data": {
      "text/plain": [
       "['ArithmeticError',\n",
       " 'AssertionError',\n",
       " 'AttributeError',\n",
       " 'BaseException',\n",
       " 'BlockingIOError',\n",
       " 'BrokenPipeError',\n",
       " 'BufferError',\n",
       " 'BytesWarning',\n",
       " 'ChildProcessError',\n",
       " 'ConnectionAbortedError',\n",
       " 'ConnectionError',\n",
       " 'ConnectionRefusedError',\n",
       " 'ConnectionResetError',\n",
       " 'DeprecationWarning',\n",
       " 'EOFError',\n",
       " 'Ellipsis',\n",
       " 'EnvironmentError',\n",
       " 'Exception',\n",
       " 'False',\n",
       " 'FileExistsError',\n",
       " 'FileNotFoundError',\n",
       " 'FloatingPointError',\n",
       " 'FutureWarning',\n",
       " 'GeneratorExit',\n",
       " 'IOError',\n",
       " 'ImportError',\n",
       " 'ImportWarning',\n",
       " 'IndentationError',\n",
       " 'IndexError',\n",
       " 'InterruptedError',\n",
       " 'IsADirectoryError',\n",
       " 'KeyError',\n",
       " 'KeyboardInterrupt',\n",
       " 'LookupError',\n",
       " 'MemoryError',\n",
       " 'ModuleNotFoundError',\n",
       " 'NameError',\n",
       " 'None',\n",
       " 'NotADirectoryError',\n",
       " 'NotImplemented',\n",
       " 'NotImplementedError',\n",
       " 'OSError',\n",
       " 'OverflowError',\n",
       " 'PendingDeprecationWarning',\n",
       " 'PermissionError',\n",
       " 'ProcessLookupError',\n",
       " 'RecursionError',\n",
       " 'ReferenceError',\n",
       " 'ResourceWarning',\n",
       " 'RuntimeError',\n",
       " 'RuntimeWarning',\n",
       " 'StopAsyncIteration',\n",
       " 'StopIteration',\n",
       " 'SyntaxError',\n",
       " 'SyntaxWarning',\n",
       " 'SystemError',\n",
       " 'SystemExit',\n",
       " 'TabError',\n",
       " 'TimeoutError',\n",
       " 'True',\n",
       " 'TypeError',\n",
       " 'UnboundLocalError',\n",
       " 'UnicodeDecodeError',\n",
       " 'UnicodeEncodeError',\n",
       " 'UnicodeError',\n",
       " 'UnicodeTranslateError',\n",
       " 'UnicodeWarning',\n",
       " 'UserWarning',\n",
       " 'ValueError',\n",
       " 'Warning',\n",
       " 'WindowsError',\n",
       " 'ZeroDivisionError',\n",
       " '__IPYTHON__',\n",
       " '__build_class__',\n",
       " '__debug__',\n",
       " '__doc__',\n",
       " '__import__',\n",
       " '__loader__',\n",
       " '__name__',\n",
       " '__package__',\n",
       " '__spec__',\n",
       " 'abs',\n",
       " 'all',\n",
       " 'any',\n",
       " 'ascii',\n",
       " 'bin',\n",
       " 'bool',\n",
       " 'breakpoint',\n",
       " 'bytearray',\n",
       " 'bytes',\n",
       " 'callable',\n",
       " 'chr',\n",
       " 'classmethod',\n",
       " 'compile',\n",
       " 'complex',\n",
       " 'copyright',\n",
       " 'credits',\n",
       " 'delattr',\n",
       " 'dict',\n",
       " 'dir',\n",
       " 'display',\n",
       " 'divmod',\n",
       " 'enumerate',\n",
       " 'eval',\n",
       " 'exec',\n",
       " 'filter',\n",
       " 'float',\n",
       " 'format',\n",
       " 'frozenset',\n",
       " 'get_ipython',\n",
       " 'getattr',\n",
       " 'globals',\n",
       " 'hasattr',\n",
       " 'hash',\n",
       " 'help',\n",
       " 'hex',\n",
       " 'id',\n",
       " 'input',\n",
       " 'int',\n",
       " 'isinstance',\n",
       " 'issubclass',\n",
       " 'iter',\n",
       " 'len',\n",
       " 'license',\n",
       " 'list',\n",
       " 'locals',\n",
       " 'map',\n",
       " 'max',\n",
       " 'memoryview',\n",
       " 'min',\n",
       " 'next',\n",
       " 'object',\n",
       " 'oct',\n",
       " 'open',\n",
       " 'ord',\n",
       " 'pow',\n",
       " 'print',\n",
       " 'property',\n",
       " 'range',\n",
       " 'repr',\n",
       " 'reversed',\n",
       " 'round',\n",
       " 'set',\n",
       " 'setattr',\n",
       " 'slice',\n",
       " 'sorted',\n",
       " 'staticmethod',\n",
       " 'str',\n",
       " 'sum',\n",
       " 'super',\n",
       " 'tuple',\n",
       " 'type',\n",
       " 'vars',\n",
       " 'zip']"
      ]
     },
     "execution_count": 22,
     "metadata": {},
     "output_type": "execute_result"
    }
   ],
   "source": [
    "'''\n",
    "아래에 출력되는 것들은 파이썬 파일을 만들어서 사용하는 순간\n",
    "메모리에 무조건 올라가는 것들이다.\n",
    "내장 함수들...\n",
    "내장함수명이 변수명으로 사용되지 않도록 주의\n",
    "list(), int(), input(), min(), max()...가 대표적인 내장함수들이다.\n",
    "'''\n",
    "dir(__builtin__)"
   ]
  },
  {
   "cell_type": "code",
   "execution_count": 26,
   "metadata": {},
   "outputs": [
    {
     "name": "stdout",
     "output_type": "stream",
     "text": [
      "True\n",
      "False\n",
      "1309414375728\n",
      "1309414375568\n"
     ]
    }
   ],
   "source": [
    "'''\n",
    "숫자(int, float), 문자(str), Tuple 타입은 immutable 객체이다.(만드는 순간 변경될 수 없는 것)\n",
    "데이터가 변경되는 순간 새로운 객체가 생성된다.\n",
    "기존의 데이터를 변경하는 것은 불가능하다.\n",
    "'''\n",
    "\n",
    "a = 257\n",
    "b = 257\n",
    "print(a == b)\n",
    "print(a is b) #a와 b가 같은 객체니?? False\n",
    "\n",
    "print(id(a)) # 주소값\n",
    "print(id(b)) # 주소값"
   ]
  },
  {
   "cell_type": "code",
   "execution_count": 28,
   "metadata": {},
   "outputs": [
    {
     "name": "stdout",
     "output_type": "stream",
     "text": [
      "True\n",
      "True\n",
      "140735194808320\n",
      "140735194808320\n"
     ]
    }
   ],
   "source": [
    "'''\n",
    "-5 ~ 256 사이의 값들은\n",
    "메모리를 효율적으로 사용하기 위해서\n",
    "이 범위에 있는 값들은 한번만 객체를 만들고 나서 만들지 않는다.\n",
    "'''\n",
    "\n",
    "a = 200\n",
    "b = 200\n",
    "\n",
    "#값 비교\n",
    "print(a == b)\n",
    "# 객체 비교  === True가 나온다??\n",
    "print(a is b)\n",
    "\n",
    "print(id(a))\n",
    "print(id(b))"
   ]
  },
  {
   "cell_type": "code",
   "execution_count": 29,
   "metadata": {},
   "outputs": [
    {
     "name": "stdout",
     "output_type": "stream",
     "text": [
      "hello\n",
      "hello\n",
      "\n",
      "            this is \n",
      "            mystr3 Test\n",
      "            hello...\n",
      "        \n"
     ]
    }
   ],
   "source": [
    "mystr1 = 'hello'\n",
    "mystr2 = \"hello\"\n",
    "\n",
    "# 여러줄의 문자열을 표시할 때\n",
    "mystr3 = '''\n",
    "            this is \n",
    "            mystr3 Test\n",
    "            hello...\n",
    "        '''\n",
    "\n",
    "print(mystr1)\n",
    "print(mystr2)\n",
    "print(mystr3)"
   ]
  },
  {
   "cell_type": "code",
   "execution_count": 35,
   "metadata": {},
   "outputs": [
    {
     "name": "stdout",
     "output_type": "stream",
     "text": [
      "손흥민의 나이는 29, 이번경기 평점은 4.79입니다.\n",
      "현재 시간은 2021년 5월 10일 입니다.\n"
     ]
    }
   ],
   "source": [
    "name = \"손흥민\" # %s\n",
    "age = 29 # %d\n",
    "grade = 4.789 #%f\n",
    "\n",
    "#포맷팅 처리해서 출력하기\n",
    "print('%s의 나이는 %d, 이번경기 평점은 %.2f입니다.' %(name,age,grade))\n",
    "\n",
    "#포맷팅2\n",
    "import time\n",
    "now = time.localtime()\n",
    "\n",
    "print('현재 시간은 %d년 %d월 %d일 입니다.' %(now.tm_year,now.tm_mon,now.tm_mday))"
   ]
  }
 ],
 "metadata": {
  "kernelspec": {
   "display_name": "Python 3",
   "language": "python",
   "name": "python3"
  },
  "language_info": {
   "codemirror_mode": {
    "name": "ipython",
    "version": 3
   },
   "file_extension": ".py",
   "mimetype": "text/x-python",
   "name": "python",
   "nbconvert_exporter": "python",
   "pygments_lexer": "ipython3",
   "version": "3.8.5"
  }
 },
 "nbformat": 4,
 "nbformat_minor": 4
}
